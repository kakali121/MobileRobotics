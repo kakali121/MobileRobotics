{
 "cells": [
  {
   "attachments": {},
   "cell_type": "markdown",
   "metadata": {},
   "source": [
    "Chapter 2: Exercise 1"
   ]
  },
  {
   "cell_type": "code",
   "execution_count": 38,
   "metadata": {},
   "outputs": [
    {
     "name": "stdout",
     "output_type": "stream",
     "text": [
      "%pylab is deprecated, use %matplotlib inline and import the required libraries.\n",
      "Populating the interactive namespace from numpy and matplotlib\n"
     ]
    }
   ],
   "source": [
    "%pylab inline"
   ]
  },
  {
   "cell_type": "code",
   "execution_count": 39,
   "metadata": {},
   "outputs": [],
   "source": [
    "# Perfect sensor\n",
    "def sense(x):\n",
    "    return x"
   ]
  },
  {
   "cell_type": "code",
   "execution_count": 40,
   "metadata": {},
   "outputs": [],
   "source": [
    "def simulate(Δt, x, u):\n",
    "    x += Δt * u\n",
    "    return x"
   ]
  },
  {
   "cell_type": "code",
   "execution_count": 83,
   "metadata": {},
   "outputs": [],
   "source": [
    "import math \n",
    "from numpy import array, sin, cos\n",
    "\n",
    "def control(t, y):\n",
    "    ### WRITE YOUR CONTROL POLICY HERE\n",
    "    t = t+math.pi/2 \n",
    "    a = 4 #major axis is equal to 4m\n",
    "    b = 2 #minor axis is equal to 2m\n",
    "    #x = a*cos(t)\n",
    "    #y = b*sin(t)\n",
    "    ux = -a*sin(t)\n",
    "    uy = b*cos(t)\n",
    "    return array([ux, uy])"
   ]
  },
  {
   "cell_type": "code",
   "execution_count": 84,
   "metadata": {},
   "outputs": [],
   "source": [
    "import numpy as np\n",
    "tf = 10    # Final time\n",
    "Δt = .1    # Time step\n",
    "time = np.linspace(0.,tf, int(tf / Δt) + 1)  # Time interval\n",
    "\n",
    "# Initial conditions\n",
    "x = array([3, 4.])\n",
    "x_log = [np.copy(x)]\n",
    "\n",
    "for t in time:\n",
    "    y = sense(x)\n",
    "    u = control(t, y)    \n",
    "    x = simulate(Δt, x, u)\n",
    "    x_log.append(np.copy(x))\n",
    "    \n",
    "x_log = np.array(x_log)"
   ]
  },
  {
   "cell_type": "code",
   "execution_count": 86,
   "metadata": {},
   "outputs": [
    {
     "data": {
      "text/plain": [
       "[<matplotlib.lines.Line2D at 0x163837070>]"
      ]
     },
     "execution_count": 86,
     "metadata": {},
     "output_type": "execute_result"
    },
    {
     "data": {
      "image/png": "[encoded data removed]",
      "text/plain": [
       "<Figure size 432x288 with 1 Axes>"
      ]
     },
     "metadata": {
      "needs_background": "light"
     },
     "output_type": "display_data"
    }
   ],
   "source": [
    "from matplotlib.pyplot import grid, plot, figure, gca, axis, legend, title, xlabel, ylabel, savefig, show\n",
    "ax = gca()\n",
    "ax.set_aspect('equal', adjustable='box')\n",
    "grid()\n",
    "plot(x_log[:,0], x_log[:,1])"
   ]
  }
 ],
 "metadata": {
  "kernelspec": {
   "display_name": "Python 3",
   "language": "python",
   "name": "python3"
  },
  "language_info": {
   "codemirror_mode": {
    "name": "ipython",
    "version": 3
   },
   "file_extension": ".py",
   "mimetype": "text/x-python",
   "name": "python",
   "nbconvert_exporter": "python",
   "pygments_lexer": "ipython3",
   "version": "3.9.13"
  },
  "orig_nbformat": 4,
  "vscode": {
   "interpreter": {
    "hash": "b0fa6594d8f4cbf19f97940f81e996739fb7646882a419484c72d19e05852a7e"
   }
  }
 },
 "nbformat": 4,
 "nbformat_minor": 2
}

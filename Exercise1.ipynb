{
 "cells": [
  {
   "attachments": {},
   "cell_type": "markdown",
   "metadata": {},
   "source": [
    "Chapter 2: Exercise 1"
   ]
  },
  {
   "cell_type": "code",
   "execution_count": 4,
   "metadata": {},
   "outputs": [
    {
     "name": "stdout",
     "output_type": "stream",
     "text": [
      "%pylab is deprecated, use %matplotlib inline and import the required libraries.\n",
      "Populating the interactive namespace from numpy and matplotlib\n"
     ]
    }
   ],
   "source": [
    "%pylab inline"
   ]
  },
  {
   "cell_type": "code",
   "execution_count": 5,
   "metadata": {},
   "outputs": [],
   "source": [
    "# Perfect sensor\n",
    "def sense(x):\n",
    "    return x"
   ]
  },
  {
   "cell_type": "code",
   "execution_count": 6,
   "metadata": {},
   "outputs": [],
   "source": [
    "def simulate(Δt, x, u):\n",
    "    x += Δt * u\n",
    "    return x"
   ]
  },
  {
   "cell_type": "code",
   "execution_count": 7,
   "metadata": {},
   "outputs": [],
   "source": [
    "import math \n",
    "from numpy import array, sin, cos\n",
    "\n",
    "def control(t, y):\n",
    "    ### WRITE YOUR CONTROL POLICY HERE\n",
    "    t = t+math.pi/2 \n",
    "    a = 4 #major axis is equal to 4m\n",
    "    b = 2 #minor axis is equal to 2m\n",
    "    #x = a*cos(t)\n",
    "    #y = b*sin(t)\n",
    "    ux = -a*sin(t)\n",
    "    uy = b*cos(t)\n",
    "    return array([ux, uy])"
   ]
  },
  {
   "cell_type": "code",
   "execution_count": 8,
   "metadata": {},
   "outputs": [],
   "source": [
    "import numpy as np\n",
    "tf = 10    # Final time\n",
    "Δt = .1    # Time step\n",
    "time = np.linspace(0.,tf, int(tf / Δt) + 1)  # Time interval\n",
    "\n",
    "# Initial conditions\n",
    "x = array([3, 4.])\n",
    "x_log = [np.copy(x)]\n",
    "\n",
    "for t in time:\n",
    "    y = sense(x)\n",
    "    u = control(t, y)    \n",
    "    x = simulate(Δt, x, u)\n",
    "    x_log.append(np.copy(x))\n",
    "    \n",
    "x_log = np.array(x_log)"
   ]
  },
  {
   "cell_type": "code",
   "execution_count": 25,
   "metadata": {},
   "outputs": [
    {
     "data": {
      "text/plain": [
       "<matplotlib.patches.FancyArrow at 0x1784dabe0>"
      ]
     },
     "execution_count": 25,
     "metadata": {},
     "output_type": "execute_result"
    },
    {
     "data": {
      "image/png": "[encoded data removed]",
      "text/plain": [
       "<Figure size 432x288 with 1 Axes>"
      ]
     },
     "metadata": {
      "needs_background": "light"
     },
     "output_type": "display_data"
    }
   ],
   "source": [
    "import numpy as np\n",
    "from matplotlib.pyplot import grid, plot, figure, gca, axis, arrow, show\n",
    "ax = gca()\n",
    "ax.set_aspect('equal', adjustable='box')\n",
    "grid()\n",
    "plot(x_log[:,0], x_log[:,1])\n",
    "arrow(3, 4, -0.1, 0, shape='full', lw=7, length_includes_head=True, head_width=.05, color='r')\n",
    "arrow(3, 0, 0.1, 0, shape='full', lw=7, length_includes_head=True, head_width=.05, color='r')"
   ]
  }
 ],
 "metadata": {
  "kernelspec": {
   "display_name": "Python 3",
   "language": "python",
   "name": "python3"
  },
  "language_info": {
   "codemirror_mode": {
    "name": "ipython",
    "version": 3
   },
   "file_extension": ".py",
   "mimetype": "text/x-python",
   "name": "python",
   "nbconvert_exporter": "python",
   "pygments_lexer": "ipython3",
   "version": "3.9.13"
  },
  "orig_nbformat": 4,
  "vscode": {
   "interpreter": {
    "hash": "b0fa6594d8f4cbf19f97940f81e996739fb7646882a419484c72d19e05852a7e"
   }
  }
 },
 "nbformat": 4,
 "nbformat_minor": 2
}

{
 "cells": [
  {
   "cell_type": "code",
   "execution_count": null,
   "id": "07447513",
   "metadata": {
    "scrolled": true
   },
   "outputs": [],
   "source": [
    "%pylab inline\n",
    "import numpy as np\n",
    "import matplotlib.pyplot as plt"
   ]
  },
  {
   "cell_type": "code",
   "execution_count": null,
   "id": "36b1a20d",
   "metadata": {
    "scrolled": true
   },
   "outputs": [],
   "source": [
    "n, m = 6, 8  # number of rows and columns respectively."
   ]
  },
  {
   "cell_type": "code",
   "execution_count": null,
   "id": "036a24fd",
   "metadata": {
    "scrolled": true
   },
   "outputs": [],
   "source": [
    "# Random obstacles for this example. \n",
    "grid = np.zeros((n, m))"
   ]
  },
  {
   "cell_type": "code",
   "execution_count": null,
   "id": "cb28bf52",
   "metadata": {
    "scrolled": true
   },
   "outputs": [],
   "source": [
    "position = list()\n",
    "for i in range(n):\n",
    "    position_row = list()\n",
    "    for j in range(m):\n",
    "        position_row.append([(-1.0+0.7*j), (1-0.7*i)])\n",
    "    position.append(position_row)\n",
    "print(position)"
   ]
  },
  {
   "cell_type": "code",
   "execution_count": null,
   "id": "a14ec1c9",
   "metadata": {
    "scrolled": false
   },
   "outputs": [],
   "source": [
    "grid[0][3] = 1\n",
    "position[0][3] = 1\n",
    "\n",
    "grid[0][5] = 1\n",
    "position[0][5] = 1\n",
    "\n",
    "grid[1][4] = 1\n",
    "position[1][4] = 1\n",
    "\n",
    "grid[2][0] = 1\n",
    "position[2][0] = 1\n",
    "\n",
    "grid[3][7] = 1\n",
    "position[3][7] = 1\n",
    "\n",
    "grid[4][2] = 1\n",
    "position[4][2] = 1\n",
    "\n",
    "grid[4][4] = 1\n",
    "position[4][4] = 1\n",
    "\n",
    "grid[5][5] = 1\n",
    "position[5][5] = 1\n",
    "\n",
    "grid[5][2] = 1\n",
    "position[5][2] = 1\n",
    "\n",
    "print(grid)"
   ]
  },
  {
   "cell_type": "code",
   "execution_count": null,
   "id": "6aa32b54",
   "metadata": {
    "scrolled": true
   },
   "outputs": [],
   "source": [
    "import matplotlib.colors as colors\n",
    "\n",
    "def plot_grid():\n",
    "    fig, ax = plt.subplots()\n",
    "    cmap = colors.ListedColormap(['0.8', 'black']) \n",
    "    ax.imshow(grid, cmap=cmap, origin='lower')\n",
    "    ax.grid(which='major', axis='both', linestyle='-', color='k', linewidth=1.2)\n",
    "    ax.set_xticks(np.arange(-.5, m, 1));\n",
    "    ax.set_yticks(np.arange(-.5, n, 1));\n",
    "    \n",
    "plot_grid()"
   ]
  },
  {
   "cell_type": "code",
   "execution_count": null,
   "id": "b772a268",
   "metadata": {
    "scrolled": true
   },
   "outputs": [],
   "source": [
    "import networkx as nx\n",
    "G = nx.grid_2d_graph(n, m)"
   ]
  },
  {
   "cell_type": "code",
   "execution_count": null,
   "id": "31c515ac",
   "metadata": {
    "scrolled": true
   },
   "outputs": [],
   "source": [
    "# Delete nodes with obstacles\n",
    "for i in range(n):\n",
    "    for j in range(m):\n",
    "        if position[i][j] == 1:  \n",
    "            G.remove_node((i,j))\n",
    "print(G.nodes())"
   ]
  },
  {
   "cell_type": "code",
   "execution_count": null,
   "id": "6a857ddf",
   "metadata": {
    "scrolled": false
   },
   "outputs": [],
   "source": [
    "plot_grid()\n",
    "pos = {node:(node[1], node[0]) for node in G.nodes()}\n",
    "nx.draw(G, pos, font_size=5, with_labels=True, node_size=300, node_color=\"y\")"
   ]
  },
  {
   "cell_type": "code",
   "execution_count": 11,
   "id": "1b374ffa",
   "metadata": {
    "scrolled": true
   },
   "outputs": [],
   "source": [
    "start1 =  (5,0)\n",
    "end1 = (0,7)"
   ]
  },
  {
   "cell_type": "code",
   "execution_count": 12,
   "id": "610c8a7b",
   "metadata": {
    "scrolled": true
   },
   "outputs": [
    {
     "data": {
      "image/png": "[encoded data removed]",
      "text/plain": [
       "<Figure size 640x480 with 1 Axes>"
      ]
     },
     "metadata": {},
     "output_type": "display_data"
    }
   ],
   "source": [
    "bfs = nx.bfs_tree(G, source=start1)\n",
    "plot_grid()\n",
    "nx.draw(bfs, pos=pos)"
   ]
  },
  {
   "cell_type": "code",
   "execution_count": null,
   "id": "d95dd8ce",
   "metadata": {
    "scrolled": false
   },
   "outputs": [],
   "source": [
    "# Pick the last element and iterate through its predecessors\n",
    "path = [end1]   # A path in a graph is a set of connected nodes\n",
    "current = end1\n",
    "\n",
    "# iterate through its predecessors until finding source node\n",
    "while current != start1:\n",
    "    # Predecesors of the current node        \n",
    "    for pre in bfs.predecessors(current):\n",
    "        current = pre\n",
    "    # add the predecessor to the path\n",
    "    path.append(pre)\n",
    "    \n",
    "# The current path starts in the goal node and ends at the start node. So we invert it\n",
    "path = path[::-1]\n",
    "route = list()\n",
    "\n",
    "for i in range(len(path)):\n",
    "    route.append(position[(path[i][0])][(path[i][1])])\n",
    "print(path)\n",
    "print(route)\n",
    "\n",
    "# Edges of the path\n",
    "E = [(path[i], path[i+1])for i in range(len(path)-1)]\n",
    "plot_grid()\n",
    "nx.draw_networkx_nodes(path, pos)\n",
    "nx.draw_networkx_edges(G, edgelist=E, pos=pos, edge_color='r')"
   ]
  },
  {
   "cell_type": "code",
   "execution_count": null,
   "id": "6d0634a5",
   "metadata": {
    "scrolled": true
   },
   "outputs": [],
   "source": [
    "for i in range(len(route)):\n",
    "    print(route[i])\n",
    "    print()"
   ]
  },
  {
   "cell_type": "code",
   "execution_count": 14,
   "id": "4f548965",
   "metadata": {
    "scrolled": false
   },
   "outputs": [],
   "source": [
    "start2 =  (0,0)\n",
    "end2 = (0,7)"
   ]
  },
  {
   "cell_type": "code",
   "execution_count": 15,
   "id": "cf49718a",
   "metadata": {
    "scrolled": true
   },
   "outputs": [
    {
     "data": {
      "image/png": "[encoded data removed]",
      "text/plain": [
       "<Figure size 640x480 with 1 Axes>"
      ]
     },
     "metadata": {},
     "output_type": "display_data"
    }
   ],
   "source": [
    "bfs = nx.bfs_tree(G, source=start2)\n",
    "plot_grid()\n",
    "nx.draw(bfs, pos=pos)"
   ]
  },
  {
   "cell_type": "code",
   "execution_count": 16,
   "id": "90d2157b",
   "metadata": {
    "scrolled": true
   },
   "outputs": [
    {
     "name": "stdout",
     "output_type": "stream",
     "text": [
      "[(0, 0), (1, 0), (1, 1), (2, 1), (2, 2), (2, 3), (2, 4), (2, 5), (1, 5), (1, 6), (0, 6), (0, 7)]\n",
      "[[-1.0, 1.0], [-1.0, 0.30000000000000004], [-0.30000000000000004, 0.30000000000000004], [-0.30000000000000004, -0.3999999999999999], [0.3999999999999999, -0.3999999999999999], [1.0999999999999996, -0.3999999999999999], [1.7999999999999998, -0.3999999999999999], [2.5, -0.3999999999999999], [2.5, 0.30000000000000004], [3.1999999999999993, 0.30000000000000004], [3.1999999999999993, 1.0], [3.8999999999999995, 1.0]]\n"
     ]
    },
    {
     "data": {
      "text/plain": [
       "<matplotlib.collections.LineCollection at 0x11369d490>"
      ]
     },
     "execution_count": 16,
     "metadata": {},
     "output_type": "execute_result"
    },
    {
     "data": {
      "image/png": "[encoded data removed]",
      "text/plain": [
       "<Figure size 640x480 with 1 Axes>"
      ]
     },
     "metadata": {},
     "output_type": "display_data"
    }
   ],
   "source": [
    "# Pick the last element and iterate through its predecessors\n",
    "path = [end2]   # A path in a graph is a set of connected nodes\n",
    "current = end2\n",
    "\n",
    "# iterate through its predecessors until finding source node\n",
    "while current != start2:\n",
    "    # Predecesors of the current node        \n",
    "    for pre in bfs.predecessors(current):\n",
    "        current = pre\n",
    "    # add the predecessor to the path\n",
    "    path.append(pre)\n",
    "    \n",
    "# The current path starts in the goal node and ends at the start node. So we invert it\n",
    "path = path[::-1]\n",
    "route = list()\n",
    "\n",
    "for i in range(len(path)):\n",
    "    route.append(position[(path[i][0])][(path[i][1])])\n",
    "print(path)\n",
    "print(route)\n",
    "\n",
    "# Edges of the path\n",
    "E = [(path[i], path[i+1])for i in range(len(path)-1)]\n",
    "plot_grid()\n",
    "nx.draw_networkx_nodes(path, pos)\n",
    "nx.draw_networkx_edges(G, edgelist=E, pos=pos, edge_color='r')"
   ]
  },
  {
   "cell_type": "code",
   "execution_count": 17,
   "id": "a3775cdd",
   "metadata": {
    "scrolled": true
   },
   "outputs": [],
   "source": [
    "start3 =  (5,7)\n",
    "end3 = (0,7)"
   ]
  },
  {
   "cell_type": "code",
   "execution_count": 18,
   "id": "14b1eafe",
   "metadata": {
    "scrolled": true
   },
   "outputs": [
    {
     "data": {
      "image/png": "[encoded data removed]",
      "text/plain": [
       "<Figure size 640x480 with 1 Axes>"
      ]
     },
     "metadata": {},
     "output_type": "display_data"
    }
   ],
   "source": [
    "bfs = nx.bfs_tree(G, source=start3)\n",
    "plot_grid()\n",
    "nx.draw(bfs, pos=pos)"
   ]
  },
  {
   "cell_type": "code",
   "execution_count": 19,
   "id": "77670a87",
   "metadata": {
    "scrolled": true
   },
   "outputs": [
    {
     "name": "stdout",
     "output_type": "stream",
     "text": [
      "[(5, 7), (4, 7), (4, 6), (3, 6), (2, 6), (1, 6), (0, 6), (0, 7)]\n",
      "[[3.8999999999999995, -2.5], [3.8999999999999995, -1.7999999999999998], [3.1999999999999993, -1.7999999999999998], [3.1999999999999993, -1.0999999999999996], [3.1999999999999993, -0.3999999999999999], [3.1999999999999993, 0.30000000000000004], [3.1999999999999993, 1.0], [3.8999999999999995, 1.0]]\n"
     ]
    },
    {
     "data": {
      "text/plain": [
       "<matplotlib.collections.LineCollection at 0x1138b1970>"
      ]
     },
     "execution_count": 19,
     "metadata": {},
     "output_type": "execute_result"
    },
    {
     "data": {
      "image/png": "[encoded data removed]",
      "text/plain": [
       "<Figure size 640x480 with 1 Axes>"
      ]
     },
     "metadata": {},
     "output_type": "display_data"
    }
   ],
   "source": [
    "# Pick the last element and iterate through its predecessors\n",
    "path = [end3]   # A path in a graph is a set of connected nodes\n",
    "current = end3\n",
    "\n",
    "# iterate through its predecessors until finding source node\n",
    "while current != start3:\n",
    "    # Predecesors of the current node        \n",
    "    for pre in bfs.predecessors(current):\n",
    "        current = pre\n",
    "    # add the predecessor to the path\n",
    "    path.append(pre)\n",
    "    \n",
    "# The current path starts in the goal node and ends at the start node. So we invert it\n",
    "path = path[::-1]\n",
    "route = list()\n",
    "\n",
    "for i in range(len(path)):\n",
    "    route.append(position[(path[i][0])][(path[i][1])])\n",
    "print(path)\n",
    "print(route)\n",
    "\n",
    "# Edges of the path\n",
    "E = [(path[i], path[i+1])for i in range(len(path)-1)]\n",
    "plot_grid()\n",
    "nx.draw_networkx_nodes(path, pos)\n",
    "nx.draw_networkx_edges(G, edgelist=E, pos=pos, edge_color='r')"
   ]
  },
  {
   "cell_type": "code",
   "execution_count": null,
   "id": "8d6043fa",
   "metadata": {
    "scrolled": true
   },
   "outputs": [],
   "source": []
  }
 ],
 "metadata": {
  "kernelspec": {
   "display_name": "Python 3 (ipykernel)",
   "language": "python",
   "name": "python3"
  },
  "language_info": {
   "codemirror_mode": {
    "name": "ipython",
    "version": 3
   },
   "file_extension": ".py",
   "mimetype": "text/x-python",
   "name": "python",
   "nbconvert_exporter": "python",
   "pygments_lexer": "ipython3",
   "version": "3.9.13"
  }
 },
 "nbformat": 4,
 "nbformat_minor": 5
}
